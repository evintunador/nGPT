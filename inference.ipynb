{
 "cells": [
  {
   "cell_type": "code",
   "execution_count": 2,
   "id": "5c8178ba-2ea0-4f4f-b9ca-c3435a83bd97",
   "metadata": {},
   "outputs": [],
   "source": [
    "# my virtual environments are rarely properly connected to jupyter so this fixes that\n",
    "# running it shouldn't break anything for u\n",
    "import sys\n",
    "import os\n",
    "current_dir = os.getcwd()  # Get the current working directory\n",
    "venv_dir = os.path.join(current_dir, 'venv') \n",
    "python_version = str(sys.version_info.major) + '.' + str(sys.version_info.minor)\n",
    "site_packages_path = os.path.join(venv_dir, 'lib', 'python' + python_version, 'site-packages')\n",
    "sys.path.append(site_packages_path) "
   ]
  },
  {
   "cell_type": "code",
   "execution_count": 4,
   "id": "8eae0015-a5c6-493e-832a-0cfcb0ef128c",
   "metadata": {},
   "outputs": [],
   "source": [
    "# importing the model config\n",
    "from config import *\n",
    "\n",
    "# importing N-GPT\n",
    "from model import Model\n",
    "\n",
    "# the config\n",
    "from config import ModelConfig\n",
    "\n",
    "# imports for the tokenizer\n",
    "import pickle\n",
    "from tokenizer.tokenizer import BPE_Tokenizer\n",
    "\n",
    "# does the actual inference\n",
    "from inference import generate\n",
    "\n",
    "# used to save & load models\n",
    "import json\n",
    "from dataclasses import asdict"
   ]
  },
  {
   "cell_type": "markdown",
   "id": "0918a651-5c6a-4a39-8b3e-a28259e4fd64",
   "metadata": {},
   "source": [
    "# Load a Pretrained Model"
   ]
  },
  {
   "cell_type": "code",
   "execution_count": 7,
   "id": "39c0ba50-83de-4ad7-b262-944e6d547ae9",
   "metadata": {},
   "outputs": [
    {
     "name": "stdout",
     "output_type": "stream",
     "text": [
      "2042106 parameters\n"
     ]
    },
    {
     "name": "stderr",
     "output_type": "stream",
     "text": [
      "/var/folders/14/tymmlq9x35718s1q9_f9zkp80000gn/T/ipykernel_34024/1049643643.py:22: FutureWarning: You are using `torch.load` with `weights_only=False` (the current default value), which uses the default pickle module implicitly. It is possible to construct malicious pickle data which will execute arbitrary code during unpickling (See https://github.com/pytorch/pytorch/blob/main/SECURITY.md#untrusted-models for more details). In a future release, the default value for `weights_only` will be flipped to `True`. This limits the functions that could be executed during unpickling. Arbitrary objects will no longer be allowed to be loaded via this mode unless they are explicitly allowlisted by the user via `torch.serialization.add_safe_globals`. We recommend you start setting `weights_only=True` for any use case where you don't have full control of the loaded file. Please open an issue on GitHub for any issues related to this experimental feature.\n",
      "  model.load_state_dict(torch.load(path, map_location=\"cpu\"))\n"
     ]
    },
    {
     "data": {
      "text/plain": [
       "Model(\n",
       "  (precompute_freqs): PrecomputeRotaryFrequencies()\n",
       "  (token_embedder): Embedding(2048, 128)\n",
       "  (layers): ModuleList(\n",
       "    (0-8): 9 x Layer(\n",
       "      (attn): SelfAttention(\n",
       "        (Wq): Linear(in_features=128, out_features=128, bias=False)\n",
       "        (Wk): Linear(in_features=128, out_features=128, bias=False)\n",
       "        (Wv): Linear(in_features=128, out_features=128, bias=False)\n",
       "        (Wo): Linear(in_features=128, out_features=128, bias=False)\n",
       "      )\n",
       "      (mlp): MLP(\n",
       "        (Wup): Linear(in_features=128, out_features=341, bias=False)\n",
       "        (Wgate): Linear(in_features=128, out_features=341, bias=False)\n",
       "        (Wdown): Linear(in_features=341, out_features=128, bias=False)\n",
       "      )\n",
       "    )\n",
       "  )\n",
       "  (output): Linear(in_features=128, out_features=2048, bias=False)\n",
       "  (criterion): CrossEntropyLoss()\n",
       ")"
      ]
     },
     "execution_count": 7,
     "metadata": {},
     "output_type": "execute_result"
    }
   ],
   "source": [
    "model_name = 'N-GPT_2m'\n",
    "\n",
    "# Deserialize the JSON file back to a dictionary\n",
    "with open(f'models/{model_name}/model_config.json', 'r') as f:\n",
    "    config_dict = json.load(f)\n",
    "\n",
    "# Convert the dictionary back to a Config object\n",
    "cfg = ModelConfig(**config_dict)\n",
    "cfg.device = ('cuda' if torch.cuda.is_available() \n",
    "              else 'mps' if torch.backends.mps.is_available() \n",
    "              else 'cpu')\n",
    "\n",
    "with open(f'tokenizer/models/{cfg.vocab_len - 3}.model', 'rb') as f:\n",
    "        tokenizer_data = pickle.load(f)\n",
    "tokenizer = BPE_Tokenizer(tokenizer_data['merges']) \n",
    "\n",
    "# Initialize a blank model\n",
    "model = Model(cfg).to(cfg.device) \n",
    "\n",
    "# Load the saved state dictionary\n",
    "path = f'models/{model_name}/model.pth'\n",
    "model.load_state_dict(torch.load(path, map_location=\"cpu\"))\n",
    "\n",
    "# print the number of parameters in the model\n",
    "print(f'{model.get_num_params()} parameters')\n",
    "\n",
    "# If you only plan to do inference, switch to evaluation mode\n",
    "model.eval()"
   ]
  },
  {
   "cell_type": "markdown",
   "id": "8c971fce-8b3e-4732-bd66-d5d2028025d6",
   "metadata": {},
   "source": [
    "# Inference"
   ]
  },
  {
   "cell_type": "code",
   "execution_count": 17,
   "id": "cbfcf3d2-b62d-458c-9fbd-bb90969f5193",
   "metadata": {},
   "outputs": [
    {
     "name": "stderr",
     "output_type": "stream",
     "text": [
      "                                                                                  "
     ]
    },
    {
     "name": "stdout",
     "output_type": "stream",
     "text": [
      "JULIET:\n",
      "O Romeo, Romeo! wherefore art thou hast hurdlest\n",
      "And hurf at his vowly stared to the man.\n",
      "\n",
      "DUKE VINCENTIO:\n",
      "You had all a man! 'tis stir of mine.\n",
      "\n",
      "First Gentleman:\n",
      "What is our brother! what thou hast well, sir!\n",
      "\n",
      "DUKE VINCENTIO:\n",
      "Then is the vengel of mine man; sir?\n",
      "\n",
      "DUKE VINCENTIO:\n",
      "O to thy honour, sir! 'tis so o'er?\n",
      "\n",
      "KING RICHARD III:\n",
      "O to the vengelly in his man!\n",
      "\n",
      "ISABELLA:\n",
      "Then is you, when thou art well to be hurdow.\n",
      "\n",
      "ROMEO:\n",
      "Your honour were towic\n"
     ]
    },
    {
     "name": "stderr",
     "output_type": "stream",
     "text": [
      "\r"
     ]
    }
   ],
   "source": [
    "output = generate(\n",
    "    \"JULIET:\\nO Romeo, Romeo! wherefore art thou\", \n",
    "    model, \n",
    "    tokenizer, \n",
    "    temperature=0.01, # really weird that we've gotta use a pretty damn low temperature\n",
    "    max_gen_len = 128\n",
    ")\n",
    "print(output)"
   ]
  },
  {
   "cell_type": "code",
   "execution_count": 10,
   "id": "3af2d78a-1d5b-42eb-85ad-0e486deb314a",
   "metadata": {},
   "outputs": [
    {
     "name": "stdout",
     "output_type": "stream",
     "text": [
      "\n",
      "=== a_A Parameters ===\n",
      "  #  Shape      Mean     Std\n",
      "---  -------  ------  ------\n",
      "  1  (128,)   0.0865  0.0208\n",
      "  2  (128,)   0.1271  0.0533\n",
      "  3  (128,)   0.1219  0.0382\n",
      "  4  (128,)   0.1242  0.0436\n",
      "  5  (128,)   0.1300  0.0481\n",
      "  6  (128,)   0.1226  0.0308\n",
      "  7  (128,)   0.1418  0.0579\n",
      "  8  (128,)   0.1408  0.0554\n",
      "  9  (128,)   0.1450  0.0518\n",
      "\n",
      "=== a_M Parameters ===\n",
      "  #  Shape      Mean     Std\n",
      "---  -------  ------  ------\n",
      "  1  (128,)   0.1422  0.0579\n",
      "  2  (128,)   0.1437  0.0586\n",
      "  3  (128,)   0.1453  0.0657\n",
      "  4  (128,)   0.1548  0.0723\n",
      "  5  (128,)   0.1507  0.0679\n",
      "  6  (128,)   0.1578  0.0691\n",
      "  7  (128,)   0.1711  0.0730\n",
      "  8  (128,)   0.1835  0.0705\n",
      "  9  (128,)   0.2169  0.0900\n",
      "\n",
      "=== s_qk Parameters ===\n",
      "  #  Shape      Mean     Std\n",
      "---  -------  ------  ------\n",
      "  1  (4, 32)  0.1353  0.0170\n",
      "  2  (4, 32)  0.1214  0.0162\n",
      "  3  (4, 32)  0.1287  0.0189\n",
      "  4  (4, 32)  0.1176  0.0208\n",
      "  5  (4, 32)  0.1230  0.0219\n",
      "  6  (4, 32)  0.1250  0.0241\n",
      "  7  (4, 32)  0.1253  0.0278\n",
      "  8  (4, 32)  0.1186  0.0236\n",
      "  9  (4, 32)  0.1087  0.0220\n",
      "\n",
      "=== s_u Parameters ===\n",
      "  #  Shape      Mean     Std\n",
      "---  -------  ------  ------\n",
      "  1  (341,)   1.0014  0.0128\n",
      "  2  (341,)   1.0027  0.0132\n",
      "  3  (341,)   1.0014  0.0144\n",
      "  4  (341,)   1.0026  0.0143\n",
      "  5  (341,)   1.0028  0.0152\n",
      "  6  (341,)   1.0010  0.0119\n",
      "  7  (341,)   1.0027  0.0173\n",
      "  8  (341,)   1.0013  0.0155\n",
      "  9  (341,)   1.0023  0.0167\n",
      "\n",
      "=== s_v Parameters ===\n",
      "  #  Shape      Mean     Std\n",
      "---  -------  ------  ------\n",
      "  1  (341,)   1.0011  0.0136\n",
      "  2  (341,)   1.0033  0.0139\n",
      "  3  (341,)   1.0028  0.0153\n",
      "  4  (341,)   1.0033  0.0145\n",
      "  5  (341,)   1.0043  0.0164\n",
      "  6  (341,)   1.0012  0.0122\n",
      "  7  (341,)   1.0015  0.0155\n",
      "  8  (341,)   1.0000  0.0148\n",
      "  9  (341,)   0.9981  0.0158\n",
      "\n",
      "=== s_z Parameters ===\n",
      "  #  Shape      Mean     Std\n",
      "---  -------  ------  ------\n",
      "  1  (2048,)  0.2385  0.1150\n"
     ]
    }
   ],
   "source": [
    "from collections import defaultdict\n",
    "from tabulate import tabulate\n",
    "\n",
    "# Dictionary to store parameters grouped by name\n",
    "params = defaultdict(list)\n",
    "scale_names = ['a_A.s', 'a_M.s', 's_qk.s', 's_u.s', 's_v.s', 's_z.s']\n",
    "\n",
    "# Collect all parameters\n",
    "for name, param in model.named_parameters():\n",
    "    # Check if the parameter name ends with any of our target scale names\n",
    "    if any(name.endswith(scale_name) for scale_name in scale_names):\n",
    "        base_name = name.split('.')[-2] + '.' + name.split('.')[-1]  # Get the base parameter name\n",
    "        layer_num = name.split('.')[1] if 'layers' in name else 'output'\n",
    "        \n",
    "        params[base_name].append({\n",
    "            'layer': layer_num,\n",
    "            'shape': tuple(param.shape),\n",
    "            'mean': torch.mean(param).item(),\n",
    "            'std': torch.std(param).item(),\n",
    "            'min': torch.min(param).item(),\n",
    "            'max': torch.max(param).item()\n",
    "        })\n",
    "\n",
    "# Print results for each parameter type\n",
    "for param_name in sorted(params.keys()):\n",
    "    print(f\"\\n=== {param_name} Parameters ===\")\n",
    "    table_data = [[\n",
    "        p['layer'],\n",
    "        str(p['shape']),\n",
    "        f\"{p['mean']:.4f}\",\n",
    "        f\"{p['std']:.4f}\",\n",
    "        f\"{p['min']:.4f}\",\n",
    "        f\"{p['max']:.4f}\"\n",
    "    ] for p in sorted(params[param_name], key=lambda x: str(x['layer']))]\n",
    "    \n",
    "    print(tabulate(\n",
    "        table_data,\n",
    "        headers=['Layer', 'Shape', 'Mean', 'Std', 'Min', 'Max'],\n",
    "        tablefmt='simple',\n",
    "        floatfmt='.4f'\n",
    "    ))"
   ]
  },
  {
   "cell_type": "code",
   "execution_count": null,
   "id": "d2da9341-e7e7-4f9d-bbd0-df7d09e349e0",
   "metadata": {},
   "outputs": [],
   "source": []
  }
 ],
 "metadata": {
  "kernelspec": {
   "display_name": "Python 3 (ipykernel)",
   "language": "python",
   "name": "python3"
  },
  "language_info": {
   "codemirror_mode": {
    "name": "ipython",
    "version": 3
   },
   "file_extension": ".py",
   "mimetype": "text/x-python",
   "name": "python",
   "nbconvert_exporter": "python",
   "pygments_lexer": "ipython3",
   "version": "3.12.4"
  }
 },
 "nbformat": 4,
 "nbformat_minor": 5
}
