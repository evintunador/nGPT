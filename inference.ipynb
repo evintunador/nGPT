{
 "cells": [
  {
   "cell_type": "code",
   "execution_count": 1,
   "id": "5c8178ba-2ea0-4f4f-b9ca-c3435a83bd97",
   "metadata": {},
   "outputs": [],
   "source": [
    "# my virtual environments are rarely properly connected to jupyter so this fixes that\n",
    "import sys\n",
    "import os\n",
    "current_dir = os.getcwd()  # Get the current working directory\n",
    "venv_dir = os.path.join(current_dir, 'venv') \n",
    "python_version = str(sys.version_info.major) + '.' + str(sys.version_info.minor)\n",
    "site_packages_path = os.path.join(venv_dir, 'lib', 'python' + python_version, 'site-packages')\n",
    "sys.path.append(site_packages_path) "
   ]
  },
  {
   "cell_type": "code",
   "execution_count": 2,
   "id": "8eae0015-a5c6-493e-832a-0cfcb0ef128c",
   "metadata": {},
   "outputs": [],
   "source": [
    "# importing the model config\n",
    "from params import *\n",
    "\n",
    "# importing minLlama3\n",
    "from model import *\n",
    "\n",
    "# used in the training loop\n",
    "import time\n",
    "\n",
    "# used to save & load models\n",
    "import json\n",
    "from dataclasses import asdict"
   ]
  },
  {
   "cell_type": "markdown",
   "id": "0918a651-5c6a-4a39-8b3e-a28259e4fd64",
   "metadata": {},
   "source": [
    "# Load a Pretrained Model"
   ]
  },
  {
   "cell_type": "code",
   "execution_count": 31,
   "id": "39c0ba50-83de-4ad7-b262-944e6d547ae9",
   "metadata": {},
   "outputs": [
    {
     "name": "stdout",
     "output_type": "stream",
     "text": [
      "2985.088 K parameters\n"
     ]
    },
    {
     "data": {
      "text/plain": [
       "Llama3(\n",
       "  (tok_embeddings): Embedding(512, 128)\n",
       "  (layers): ModuleList(\n",
       "    (0-11): 12 x TransformerBlock(\n",
       "      (attention): Attention(\n",
       "        (wq): Linear(in_features=128, out_features=128, bias=False)\n",
       "        (wk): Linear(in_features=128, out_features=32, bias=False)\n",
       "        (wv): Linear(in_features=128, out_features=32, bias=False)\n",
       "        (wo): Linear(in_features=128, out_features=128, bias=False)\n",
       "      )\n",
       "      (feed_forward): FeedForward(\n",
       "        (w1): Linear(in_features=128, out_features=512, bias=False)\n",
       "        (w2): Linear(in_features=512, out_features=128, bias=False)\n",
       "        (w3): Linear(in_features=128, out_features=512, bias=False)\n",
       "      )\n",
       "      (attention_norm): RMSNorm()\n",
       "      (ffn_norm): RMSNorm()\n",
       "    )\n",
       "  )\n",
       "  (norm): RMSNorm()\n",
       "  (output): Linear(in_features=128, out_features=512, bias=False)\n",
       "  (criterion): CrossEntropyLoss()\n",
       ")"
      ]
     },
     "execution_count": 31,
     "metadata": {},
     "output_type": "execute_result"
    }
   ],
   "source": [
    "# pretrained model options:\n",
    "# 2m parameters, context length = 256, trained for 500 iterations w/ batch size of 32 and no dropout: 'Llama3_2024-04-19|04-00-15'\n",
    "# 2m parameters, context length = 512, trained for 1000 iterations w/ batch size 32 and dropout 0.1: 'Llama3_2024-04-19|15-18-16'\n",
    "# 3m parameters, context length = 512, trained for 1300 iterations w/ batch size of 24 and dropout 0.1: 'Llama3_2024-04-19|17-21-51'\n",
    "name = 'Llama3_2024-04-19|17-21-51'\n",
    "\n",
    "# Deserialize the JSON file back to a dictionary\n",
    "with open(f'models/{name}.json', 'r') as f:\n",
    "    params_dict = json.load(f)\n",
    "\n",
    "# Convert the dictionary back to a dataclass object\n",
    "params = ModelArgs(**params_dict)\n",
    "params.device = 'cuda' if torch.cuda.is_available() else 'cpu'\n",
    "\n",
    "# Initialize a blank model\n",
    "model = Llama3(params, tokenizer).to(params.device)  \n",
    "\n",
    "# here's the path to a minGemma model that i've trained with roughly 1m parameters\n",
    "path = f'models/{name}.pth'\n",
    "\n",
    "# Load the saved state dictionary\n",
    "model.load_state_dict(torch.load(path)) \n",
    "# REMEMBER TO CHANGE VALUES IN params TO MATCH THE MODEL YOU'VE LOADED\n",
    "\n",
    "# print the number of parameters in the model\n",
    "print(sum(p.numel() for p in model.parameters())/1e3, 'K parameters')\n",
    "\n",
    "# If you only plan to do inference, switch to evaluation mode\n",
    "model.eval()"
   ]
  },
  {
   "cell_type": "markdown",
   "id": "8c971fce-8b3e-4732-bd66-d5d2028025d6",
   "metadata": {},
   "source": [
    "# Inference"
   ]
  },
  {
   "cell_type": "code",
   "execution_count": 32,
   "id": "16fa4207-7db1-4c22-8e4c-481389f73ede",
   "metadata": {},
   "outputs": [],
   "source": [
    "input_str = \"JULIET:\\nO Romeo, Romeo! wherefore art thou R\" # the classic line"
   ]
  },
  {
   "cell_type": "code",
   "execution_count": 33,
   "id": "cbfcf3d2-b62d-458c-9fbd-bb90969f5193",
   "metadata": {},
   "outputs": [
    {
     "name": "stdout",
     "output_type": "stream",
     "text": [
      "JULIET:\n",
      "O Romeo, Romeo! wherefore art thou Romeo?\n",
      "\n",
      "JULIET:\n",
      "The truth, my lord, for I have done for thee,\n",
      "And I would not have it speak again.\n",
      "\n",
      "ROMEO:\n",
      "I would not speak for thee, for I have done.\n",
      "\n",
      "ROMEO:\n",
      "I would not speak as she as I love.\n",
      "\n",
      "ROMEO:\n",
      "Alack, that is thy soul should be thy son.\n",
      "\n",
      "JULIET:\n",
      "I would not be a man that loves it not.\n",
      "\n",
      "JULIET:\n",
      "O she did light! O woful day!\n",
      "\n",
      "JULIET:\n",
      "O heavens! O wife, what time thou hast believed\n",
      "me to my right and haste to thee more.\n",
      "\n",
      "JULIET:\n",
      "O she is dead!\n",
      "\n",
      "ROMEO:\n",
      "I cannot tell it as I saw thee better than thou\n",
      "Hath yet to thee and thou hast slain thee here.\n",
      "\n",
      "ROMEO:\n",
      "That I had been a false that knight should have\n",
      "The friar of Romeo was to be thus and sea tongue,\n",
      "May mark a fresh and prove thy looks in easy.\n",
      "\n",
      "JULIET:\n",
      "All love, and all thy shoulders give me from thee,\n",
      "I have but tender mine own beloved.\n",
      "\n",
      "JULIET:\n",
      "\n"
     ]
    }
   ],
   "source": [
    "# doing everything with default values\n",
    "print(model.generate(input_str))"
   ]
  },
  {
   "cell_type": "markdown",
   "id": "9bf903ce-2edf-44cf-b808-b39da658d7f0",
   "metadata": {},
   "source": [
    "#### now let's use memory_saver_div to take advantage of KV caching for linear scaling of memory usage with sequence length increase in exchange for *potential* quality degradation. memory_saver_div must be a power of 2, and it is used to calculate the maximum length of the query's sequence length dimension in the attention matrix"
   ]
  },
  {
   "cell_type": "code",
   "execution_count": 34,
   "id": "93b8d42e-d926-4477-8ce1-26e3bcb1779f",
   "metadata": {},
   "outputs": [
    {
     "name": "stdout",
     "output_type": "stream",
     "text": [
      "maximum attention matrix size will be 64x512 rather than 512x512\n",
      "\n",
      "JULIET:\n",
      "O Romeo, Romeo! wherefore art thou Romeo?\n",
      "\n",
      "JULIET:\n",
      "That I may make thee pause; for I am in\n",
      "a murderer to the fish of death's deliver'd,\n",
      "I have not death to live thee on the time;\n",
      "But on thy shame in the battle word,\n",
      "By me a servant beauty may be spent.\n",
      "\n",
      "ROMEO:\n",
      "O misery name, God shall be thus for thy life.\n",
      "\n",
      "JULIET:\n",
      "O she did kill me for thy knee be made.\n",
      "\n",
      "JULIET:\n",
      "Thou wilt not speak? O true, let me see thee,\n",
      "The words of Juliet, Juliet, and dead thy life;\n",
      "For I have not heard thy love with hell!\n",
      "\n",
      "JULIET:\n",
      "Hold, Juliet, to thy guests, and makes me dead.\n",
      "\n",
      "JULIET:\n",
      "Hie thee to me: O pretty is night!\n",
      "\n",
      "JULIET:\n",
      "I am in all of wit and fast by thy life.\n",
      "\n",
      "JULIET:\n",
      "O she's dead friend, for what sad news?\n",
      "\n",
      "JULIET:\n",
      "Ay me! the duke and head the princes of joy!\n",
      "\n",
      "JULIET:\n",
      "O God, I said, for all for thee I have.\n",
      "\n",
      "\n"
     ]
    }
   ],
   "source": [
    "output = model.generate(\n",
    "    input_str, \n",
    "    max_gen_len = params.max_seq_len - len(input_str), # our model doesn't have a built-in <endoftext> token so we have to specify when to stop generating\n",
    "    memory_saver_div = 8, # the largest value we'll allow our query sequence length to get. makes memory consumption linear with respect to sequence length\n",
    "    temperature = 0.6, # this is the default value that Llama3's official code has set\n",
    "    top_p = 0.9, # this is the default value that Llama3's official code has set\n",
    "    top_k = 32, # meta's code doesn't actually implement top_k selection but i've added it anyways as an alternative\n",
    ")\n",
    "print(output)"
   ]
  },
  {
   "cell_type": "code",
   "execution_count": null,
   "id": "3af2d78a-1d5b-42eb-85ad-0e486deb314a",
   "metadata": {},
   "outputs": [],
   "source": []
  }
 ],
 "metadata": {
  "kernelspec": {
   "display_name": "Python 3 (ipykernel)",
   "language": "python",
   "name": "python3"
  },
  "language_info": {
   "codemirror_mode": {
    "name": "ipython",
    "version": 3
   },
   "file_extension": ".py",
   "mimetype": "text/x-python",
   "name": "python",
   "nbconvert_exporter": "python",
   "pygments_lexer": "ipython3",
   "version": "3.10.12"
  }
 },
 "nbformat": 4,
 "nbformat_minor": 5
}
