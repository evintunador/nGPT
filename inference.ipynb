{
 "cells": [
  {
   "cell_type": "code",
   "execution_count": 1,
   "id": "5c8178ba-2ea0-4f4f-b9ca-c3435a83bd97",
   "metadata": {},
   "outputs": [],
   "source": [
    "# my virtual environments are rarely properly connected to jupyter so this fixes that\n",
    "# running it shouldn't break anything for u\n",
    "import sys\n",
    "import os\n",
    "current_dir = os.getcwd()  # Get the current working directory\n",
    "venv_dir = os.path.join(current_dir, 'venv') \n",
    "python_version = str(sys.version_info.major) + '.' + str(sys.version_info.minor)\n",
    "site_packages_path = os.path.join(venv_dir, 'lib', 'python' + python_version, 'site-packages')\n",
    "sys.path.append(site_packages_path) "
   ]
  },
  {
   "cell_type": "code",
   "execution_count": 17,
   "id": "8eae0015-a5c6-493e-832a-0cfcb0ef128c",
   "metadata": {},
   "outputs": [],
   "source": [
    "# importing the model config\n",
    "from config import *\n",
    "\n",
    "# importing N-GPT\n",
    "from model import Model\n",
    "\n",
    "# the config\n",
    "from config import ModelConfig\n",
    "\n",
    "# imports for the tokenizer\n",
    "import pickle\n",
    "from tokenizer.tokenizer import BPE_Tokenizer\n",
    "\n",
    "# does the actual inference\n",
    "from inference import generate\n",
    "\n",
    "# used to save & load models\n",
    "import json\n",
    "from dataclasses import asdict"
   ]
  },
  {
   "cell_type": "markdown",
   "id": "0918a651-5c6a-4a39-8b3e-a28259e4fd64",
   "metadata": {},
   "source": [
    "# Load a Pretrained Model"
   ]
  },
  {
   "cell_type": "code",
   "execution_count": 14,
   "id": "39c0ba50-83de-4ad7-b262-944e6d547ae9",
   "metadata": {},
   "outputs": [
    {
     "name": "stdout",
     "output_type": "stream",
     "text": [
      "528.544 K parameters\n"
     ]
    },
    {
     "name": "stderr",
     "output_type": "stream",
     "text": [
      "/var/folders/14/tymmlq9x35718s1q9_f9zkp80000gn/T/ipykernel_16409/861789102.py:26: FutureWarning: You are using `torch.load` with `weights_only=False` (the current default value), which uses the default pickle module implicitly. It is possible to construct malicious pickle data which will execute arbitrary code during unpickling (See https://github.com/pytorch/pytorch/blob/main/SECURITY.md#untrusted-models for more details). In a future release, the default value for `weights_only` will be flipped to `True`. This limits the functions that could be executed during unpickling. Arbitrary objects will no longer be allowed to be loaded via this mode unless they are explicitly allowlisted by the user via `torch.serialization.add_safe_globals`. We recommend you start setting `weights_only=True` for any use case where you don't have full control of the loaded file. Please open an issue on GitHub for any issues related to this experimental feature.\n",
      "  model.load_state_dict(torch.load(path, map_location=\"cpu\"))\n"
     ]
    },
    {
     "data": {
      "text/plain": [
       "Model(\n",
       "  (precompute_freqs): PrecomputeRotaryFrequencies()\n",
       "  (token_embedder): Embedding(1024, 64)\n",
       "  (layers): ModuleList(\n",
       "    (0-7): 8 x Layer(\n",
       "      (attn): SelfAttention(\n",
       "        (Wq): Linear(in_features=64, out_features=64, bias=False)\n",
       "        (Wk): Linear(in_features=64, out_features=64, bias=False)\n",
       "        (Wv): Linear(in_features=64, out_features=64, bias=False)\n",
       "        (Wo): Linear(in_features=64, out_features=64, bias=False)\n",
       "      )\n",
       "      (mlp): MLP(\n",
       "        (Wup): Linear(in_features=64, out_features=170, bias=False)\n",
       "        (Wgate): Linear(in_features=64, out_features=170, bias=False)\n",
       "        (Wdown): Linear(in_features=170, out_features=64, bias=False)\n",
       "      )\n",
       "    )\n",
       "  )\n",
       "  (output): Linear(in_features=64, out_features=1024, bias=False)\n",
       "  (criterion): CrossEntropyLoss()\n",
       ")"
      ]
     },
     "execution_count": 14,
     "metadata": {},
     "output_type": "execute_result"
    }
   ],
   "source": [
    "# pretrained model options:\n",
    "# 2m parameters, context length = 256, trained for 500 iterations w/ batch size of 32 and no dropout: 'Llama3_2024-04-19|04-00-15'\n",
    "# 2m parameters, context length = 512, trained for 1000 iterations w/ batch size 32 and dropout 0.1: 'Llama3_2024-04-19|15-18-16'\n",
    "# 3m parameters, context length = 512, trained for 1300 iterations w/ batch size of 24 and dropout 0.1: 'Llama3_2024-04-19|17-21-51'\n",
    "model_name = 'Model_2024-11-07|13-54-51'\n",
    "\n",
    "# Deserialize the JSON file back to a dictionary\n",
    "with open(f'models/{model_name}/model_config.json', 'r') as f:\n",
    "    config_dict = json.load(f)\n",
    "\n",
    "# Convert the dictionary back to a Config object\n",
    "cfg = ModelConfig(**config_dict)\n",
    "cfg.device = ('cuda' if torch.cuda.is_available() \n",
    "              else 'mps' if torch.backends.mps.is_available() \n",
    "              else 'cpu')\n",
    "\n",
    "with open(f'tokenizer/models/{cfg.vocab_len - 3}.model', 'rb') as f:\n",
    "        tokenizer_data = pickle.load(f)\n",
    "tokenizer = BPE_Tokenizer(tokenizer_data['merges']) \n",
    "\n",
    "# Initialize a blank model\n",
    "model = Model(cfg).to(cfg.device) \n",
    "\n",
    "# Load the saved state dictionary\n",
    "path = f'models/{model_name}/model.pth'\n",
    "model.load_state_dict(torch.load(path, map_location=\"cpu\"))\n",
    "\n",
    "# print the number of parameters in the model\n",
    "print(sum(p.numel() for p in model.parameters())/1e3, 'K parameters')\n",
    "\n",
    "# If you only plan to do inference, switch to evaluation mode\n",
    "model.eval()"
   ]
  },
  {
   "cell_type": "markdown",
   "id": "8c971fce-8b3e-4732-bd66-d5d2028025d6",
   "metadata": {},
   "source": [
    "# Inference"
   ]
  },
  {
   "cell_type": "code",
   "execution_count": 21,
   "id": "cbfcf3d2-b62d-458c-9fbd-bb90969f5193",
   "metadata": {},
   "outputs": [
    {
     "name": "stderr",
     "output_type": "stream",
     "text": [
      "                                                                              "
     ]
    },
    {
     "name": "stdout",
     "output_type": "stream",
     "text": [
      "JULIET:\n",
      "O Romeo, Romeo! wherefore art thou now re�ostity oldhingort kn my\u000fROMEseful EDWARDotK S g ouringBe_ Tent but marEi in nowir\n"
     ]
    },
    {
     "name": "stderr",
     "output_type": "stream",
     "text": [
      "\r"
     ]
    }
   ],
   "source": [
    "output = generate(\"JULIET:\\nO Romeo, Romeo! wherefore art thou\", model, tokenizer, temperature=0.7, max_gen_len = 32)\n",
    "print(output)"
   ]
  },
  {
   "cell_type": "code",
   "execution_count": null,
   "id": "3af2d78a-1d5b-42eb-85ad-0e486deb314a",
   "metadata": {},
   "outputs": [],
   "source": []
  }
 ],
 "metadata": {
  "kernelspec": {
   "display_name": "Python 3 (ipykernel)",
   "language": "python",
   "name": "python3"
  },
  "language_info": {
   "codemirror_mode": {
    "name": "ipython",
    "version": 3
   },
   "file_extension": ".py",
   "mimetype": "text/x-python",
   "name": "python",
   "nbconvert_exporter": "python",
   "pygments_lexer": "ipython3",
   "version": "3.12.4"
  }
 },
 "nbformat": 4,
 "nbformat_minor": 5
}
