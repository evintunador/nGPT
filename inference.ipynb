{
 "cells": [
  {
   "cell_type": "code",
   "execution_count": 2,
   "id": "5c8178ba-2ea0-4f4f-b9ca-c3435a83bd97",
   "metadata": {},
   "outputs": [],
   "source": [
    "# my virtual environments are rarely properly connected to jupyter so this fixes that\n",
    "# running it shouldn't break anything for u\n",
    "import sys\n",
    "import os\n",
    "current_dir = os.getcwd()  # Get the current working directory\n",
    "venv_dir = os.path.join(current_dir, 'venv') \n",
    "python_version = str(sys.version_info.major) + '.' + str(sys.version_info.minor)\n",
    "site_packages_path = os.path.join(venv_dir, 'lib', 'python' + python_version, 'site-packages')\n",
    "sys.path.append(site_packages_path) "
   ]
  },
  {
   "cell_type": "code",
   "execution_count": 3,
   "id": "8eae0015-a5c6-493e-832a-0cfcb0ef128c",
   "metadata": {},
   "outputs": [],
   "source": [
    "# importing the model config\n",
    "from config import *\n",
    "\n",
    "# importing N-GPT\n",
    "from model import Model\n",
    "\n",
    "# the config\n",
    "from config import ModelConfig\n",
    "\n",
    "# imports for the tokenizer\n",
    "import pickle\n",
    "from tokenizer.tokenizer import BPE_Tokenizer\n",
    "\n",
    "# does the actual inference\n",
    "from inference import generate\n",
    "\n",
    "# used to save & load models\n",
    "import json\n",
    "from dataclasses import asdict"
   ]
  },
  {
   "cell_type": "markdown",
   "id": "0918a651-5c6a-4a39-8b3e-a28259e4fd64",
   "metadata": {},
   "source": [
    "# Load a Pretrained Model"
   ]
  },
  {
   "cell_type": "code",
   "execution_count": 5,
   "id": "39c0ba50-83de-4ad7-b262-944e6d547ae9",
   "metadata": {},
   "outputs": [
    {
     "name": "stdout",
     "output_type": "stream",
     "text": [
      "1844560 parameters\n"
     ]
    },
    {
     "name": "stderr",
     "output_type": "stream",
     "text": [
      "/var/folders/14/tymmlq9x35718s1q9_f9zkp80000gn/T/ipykernel_63559/1049643643.py:22: FutureWarning: You are using `torch.load` with `weights_only=False` (the current default value), which uses the default pickle module implicitly. It is possible to construct malicious pickle data which will execute arbitrary code during unpickling (See https://github.com/pytorch/pytorch/blob/main/SECURITY.md#untrusted-models for more details). In a future release, the default value for `weights_only` will be flipped to `True`. This limits the functions that could be executed during unpickling. Arbitrary objects will no longer be allowed to be loaded via this mode unless they are explicitly allowlisted by the user via `torch.serialization.add_safe_globals`. We recommend you start setting `weights_only=True` for any use case where you don't have full control of the loaded file. Please open an issue on GitHub for any issues related to this experimental feature.\n",
      "  model.load_state_dict(torch.load(path, map_location=\"cpu\"))\n"
     ]
    },
    {
     "data": {
      "text/plain": [
       "Model(\n",
       "  (precompute_freqs): PrecomputeRotaryFrequencies()\n",
       "  (token_embedder): Embedding(2048, 128)\n",
       "  (layers): ModuleList(\n",
       "    (0-7): 8 x Layer(\n",
       "      (attn): SelfAttention(\n",
       "        (Wq): Linear(in_features=128, out_features=128, bias=False)\n",
       "        (Wk): Linear(in_features=128, out_features=128, bias=False)\n",
       "        (Wv): Linear(in_features=128, out_features=128, bias=False)\n",
       "        (s_qk): Scale()\n",
       "        (Wo): Linear(in_features=128, out_features=128, bias=False)\n",
       "      )\n",
       "      (alpha_A): Scale()\n",
       "      (mlp): MLP(\n",
       "        (Wup): Linear(in_features=128, out_features=341, bias=False)\n",
       "        (Wgate): Linear(in_features=128, out_features=341, bias=False)\n",
       "        (Wdown): Linear(in_features=341, out_features=128, bias=False)\n",
       "        (s_u): Scale()\n",
       "        (s_v): Scale()\n",
       "      )\n",
       "      (alpha_M): Scale()\n",
       "    )\n",
       "  )\n",
       "  (output): Linear(in_features=128, out_features=2048, bias=False)\n",
       "  (s_z): Scale()\n",
       "  (criterion): CrossEntropyLoss()\n",
       ")"
      ]
     },
     "execution_count": 5,
     "metadata": {},
     "output_type": "execute_result"
    }
   ],
   "source": [
    "model_name = 'N-GPT_2m'\n",
    "\n",
    "# Deserialize the JSON file back to a dictionary\n",
    "with open(f'models/{model_name}/model_config.json', 'r') as f:\n",
    "    config_dict = json.load(f)\n",
    "\n",
    "# Convert the dictionary back to a Config object\n",
    "cfg = ModelConfig(**config_dict)\n",
    "cfg.device = ('cuda' if torch.cuda.is_available() \n",
    "              else 'mps' if torch.backends.mps.is_available() \n",
    "              else 'cpu')\n",
    "\n",
    "with open(f'tokenizer/models/{cfg.vocab_len - 3}.model', 'rb') as f:\n",
    "        tokenizer_data = pickle.load(f)\n",
    "tokenizer = BPE_Tokenizer(tokenizer_data['merges']) \n",
    "\n",
    "# Initialize a blank model\n",
    "model = Model(cfg).to(cfg.device) \n",
    "\n",
    "# Load the saved state dictionary\n",
    "path = f'models/{model_name}/model.pth'\n",
    "model.load_state_dict(torch.load(path, map_location=\"cpu\"))\n",
    "\n",
    "# print the number of parameters in the model\n",
    "print(f'{model.get_num_params()} parameters')\n",
    "\n",
    "# If you only plan to do inference, switch to evaluation mode\n",
    "model.eval()"
   ]
  },
  {
   "cell_type": "markdown",
   "id": "8c971fce-8b3e-4732-bd66-d5d2028025d6",
   "metadata": {},
   "source": [
    "# Inference"
   ]
  },
  {
   "cell_type": "code",
   "execution_count": 7,
   "id": "cbfcf3d2-b62d-458c-9fbd-bb90969f5193",
   "metadata": {},
   "outputs": [
    {
     "name": "stderr",
     "output_type": "stream",
     "text": [
      "                                                                                  "
     ]
    },
    {
     "name": "stdout",
     "output_type": "stream",
     "text": [
      "JULIET:\n",
      "O Romeo, Romeo! wherefore art thou art we will not in his parging.\n",
      "\n",
      "QUEEN MARGARET:\n",
      "My lord, I will be fot of this cuts,\n",
      "For my father is evestes to thy barn,\n",
      "And they have stow to our prace, that now\n",
      "That he shall be starl,\n",
      "For my lord to his bay'd in your vow,\n",
      "But that we shall be star'd the penes; I have in a man?\n",
      "\n",
      "KING RICHARD II:\n",
      "The garg'd a man's crow, as my lord\n",
      "The birp'ding in his parged\n"
     ]
    },
    {
     "name": "stderr",
     "output_type": "stream",
     "text": [
      "\r"
     ]
    }
   ],
   "source": [
    "output = generate(\n",
    "    \"JULIET:\\nO Romeo, Romeo! wherefore art thou\", \n",
    "    model, \n",
    "    tokenizer, \n",
    "    temperature=0.01, # really weird that we've gotta use a pretty damn low temperature\n",
    "    max_gen_len = 128\n",
    ")\n",
    "print(output)"
   ]
  },
  {
   "cell_type": "code",
   "execution_count": 9,
   "id": "3af2d78a-1d5b-42eb-85ad-0e486deb314a",
   "metadata": {},
   "outputs": [
    {
     "name": "stdout",
     "output_type": "stream",
     "text": [
      "\n",
      "=== alpha_A.s Parameters ===\n",
      "  Layer  Shape       Mean     Std     Min     Max\n",
      "-------  --------  ------  ------  ------  ------\n",
      "      0  (1, 128)  0.1314  0.0335  0.0900  0.2482\n",
      "      1  (1, 128)  0.1291  0.0399  0.0907  0.2531\n",
      "      2  (1, 128)  0.1323  0.0391  0.0935  0.2985\n",
      "      3  (1, 128)  0.1343  0.0418  0.0886  0.2879\n",
      "      4  (1, 128)  0.1329  0.0419  0.0918  0.2612\n",
      "      5  (1, 128)  0.1328  0.0439  0.0925  0.3031\n",
      "      6  (1, 128)  0.1355  0.0407  0.0958  0.3079\n",
      "      7  (1, 128)  0.1334  0.0382  0.0922  0.2873\n",
      "\n",
      "=== alpha_M.s Parameters ===\n",
      "  Layer  Shape       Mean     Std     Min     Max\n",
      "-------  --------  ------  ------  ------  ------\n",
      "      0  (1, 128)  0.1271  0.0310  0.0934  0.2501\n",
      "      1  (1, 128)  0.1320  0.0434  0.0924  0.2908\n",
      "      2  (1, 128)  0.1414  0.0499  0.0945  0.3001\n",
      "      3  (1, 128)  0.1425  0.0445  0.0947  0.2871\n",
      "      4  (1, 128)  0.1511  0.0504  0.0979  0.2980\n",
      "      5  (1, 128)  0.1463  0.0464  0.0961  0.2909\n",
      "      6  (1, 128)  0.1534  0.0533  0.0954  0.2935\n",
      "      7  (1, 128)  0.1593  0.0484  0.1002  0.2838\n",
      "\n",
      "=== s_qk.s Parameters ===\n",
      "  Layer  Shape      Mean     Std     Min     Max\n",
      "-------  -------  ------  ------  ------  ------\n",
      "      0  (4, 32)  0.1172  0.0219  0.0623  0.1699\n",
      "      1  (4, 32)  0.1014  0.0125  0.0853  0.1442\n",
      "      2  (4, 32)  0.1084  0.0200  0.0844  0.1619\n",
      "      3  (4, 32)  0.1068  0.0170  0.0852  0.1680\n",
      "      4  (4, 32)  0.1041  0.0159  0.0847  0.1484\n",
      "      5  (4, 32)  0.1094  0.0143  0.0827  0.1392\n",
      "      6  (4, 32)  0.1064  0.0179  0.0811  0.1705\n",
      "      7  (4, 32)  0.1092  0.0162  0.0818  0.1493\n",
      "\n",
      "=== s_u.s Parameters ===\n",
      "  Layer  Shape       Mean     Std     Min     Max\n",
      "-------  --------  ------  ------  ------  ------\n",
      "      0  (1, 341)  1.0010  0.0080  0.9559  1.0505\n",
      "      1  (1, 341)  1.0006  0.0058  0.9698  1.0337\n",
      "      2  (1, 341)  1.0008  0.0073  0.9791  1.0750\n",
      "      3  (1, 341)  1.0009  0.0065  0.9775  1.0409\n",
      "      4  (1, 341)  1.0009  0.0067  0.9611  1.0383\n",
      "      5  (1, 341)  1.0004  0.0063  0.9791  1.0531\n",
      "      6  (1, 341)  1.0011  0.0088  0.9681  1.0800\n",
      "      7  (1, 341)  1.0011  0.0097  0.9547  1.0748\n",
      "\n",
      "=== s_v.s Parameters ===\n",
      "  Layer  Shape       Mean     Std     Min     Max\n",
      "-------  --------  ------  ------  ------  ------\n",
      "      0  (1, 341)  1.0011  0.0079  0.9602  1.0501\n",
      "      1  (1, 341)  1.0008  0.0064  0.9708  1.0377\n",
      "      2  (1, 341)  1.0008  0.0076  0.9799  1.0822\n",
      "      3  (1, 341)  1.0005  0.0064  0.9704  1.0342\n",
      "      4  (1, 341)  1.0005  0.0075  0.9604  1.0566\n",
      "      5  (1, 341)  0.9999  0.0070  0.9674  1.0527\n",
      "      6  (1, 341)  0.9997  0.0072  0.9672  1.0427\n",
      "      7  (1, 341)  0.9992  0.0085  0.9533  1.0616\n",
      "\n",
      "=== s_z.s Parameters ===\n",
      "Layer    Shape        Mean     Std     Min     Max\n",
      "-------  ---------  ------  ------  ------  ------\n",
      "output   (1, 2048)  0.1867  0.0756  0.0857  0.3872\n"
     ]
    }
   ],
   "source": [
    "from collections import defaultdict\n",
    "from tabulate import tabulate\n",
    "\n",
    "# Dictionary to store parameters grouped by name\n",
    "params = defaultdict(list)\n",
    "scale_names = ['alpha_A.s', 'alpha_M.s', 's_qk.s', 's_u.s', 's_v.s', 's_z.s']\n",
    "\n",
    "# Collect all parameters\n",
    "for name, param in model.named_parameters():\n",
    "    # Check if the parameter name ends with any of our target scale names\n",
    "    if any(name.endswith(scale_name) for scale_name in scale_names):\n",
    "        base_name = name.split('.')[-2] + '.' + name.split('.')[-1]  # Get the base parameter name\n",
    "        layer_num = name.split('.')[1] if 'layers' in name else 'output'\n",
    "        \n",
    "        params[base_name].append({\n",
    "            'layer': layer_num,\n",
    "            'shape': tuple(param.shape),\n",
    "            'mean': torch.mean(param).item(),\n",
    "            'std': torch.std(param).item(),\n",
    "            'min': torch.min(param).item(),\n",
    "            'max': torch.max(param).item()\n",
    "        })\n",
    "\n",
    "# Print results for each parameter type\n",
    "for param_name in sorted(params.keys()):\n",
    "    print(f\"\\n=== {param_name} Parameters ===\")\n",
    "    table_data = [[\n",
    "        p['layer'],\n",
    "        str(p['shape']),\n",
    "        f\"{p['mean']:.4f}\",\n",
    "        f\"{p['std']:.4f}\",\n",
    "        f\"{p['min']:.4f}\",\n",
    "        f\"{p['max']:.4f}\"\n",
    "    ] for p in sorted(params[param_name], key=lambda x: str(x['layer']))]\n",
    "    \n",
    "    print(tabulate(\n",
    "        table_data,\n",
    "        headers=['Layer', 'Shape', 'Mean', 'Std', 'Min', 'Max'],\n",
    "        tablefmt='simple',\n",
    "        floatfmt='.4f'\n",
    "    ))"
   ]
  },
  {
   "cell_type": "code",
   "execution_count": null,
   "id": "d2da9341-e7e7-4f9d-bbd0-df7d09e349e0",
   "metadata": {},
   "outputs": [],
   "source": []
  }
 ],
 "metadata": {
  "kernelspec": {
   "display_name": "Python 3 (ipykernel)",
   "language": "python",
   "name": "python3"
  },
  "language_info": {
   "codemirror_mode": {
    "name": "ipython",
    "version": 3
   },
   "file_extension": ".py",
   "mimetype": "text/x-python",
   "name": "python",
   "nbconvert_exporter": "python",
   "pygments_lexer": "ipython3",
   "version": "3.12.4"
  }
 },
 "nbformat": 4,
 "nbformat_minor": 5
}
